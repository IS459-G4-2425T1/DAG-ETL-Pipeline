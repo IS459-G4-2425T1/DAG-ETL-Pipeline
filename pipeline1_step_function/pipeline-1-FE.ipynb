{
	"metadata": {
		"kernelspec": {
			"name": "glue_pyspark",
			"display_name": "Glue PySpark",
			"language": "python"
		},
		"language_info": {
			"name": "Python_Glue_Session",
			"mimetype": "text/x-python",
			"codemirror_mode": {
				"name": "python",
				"version": 3
			},
			"pygments_lexer": "python3",
			"file_extension": ".py"
		}
	},
	"nbformat_minor": 4,
	"nbformat": 4,
	"cells": [
		{
			"cell_type": "markdown",
			"source": "# AWS Glue Studio Notebook\n##### You are now running a AWS Glue Studio notebook; To start using your notebook you need to start an AWS Glue Interactive Session.\n",
			"metadata": {
				"editable": true,
				"trusted": true
			}
		},
		{
			"cell_type": "markdown",
			"source": "#### Optional: Run this cell to see available notebook commands (\"magics\").\n",
			"metadata": {
				"editable": true,
				"trusted": true
			}
		},
		{
			"cell_type": "markdown",
			"source": "####  Run this cell to set up and start your interactive session.\n",
			"metadata": {
				"editable": true,
				"trusted": true
			}
		},
		{
			"cell_type": "code",
			"source": "%idle_timeout 2880\n%glue_version 4.0\n%worker_type G.1X\n%number_of_workers 5\n\nimport sys\nfrom awsglue.transforms import *\nfrom awsglue.utils import getResolvedOptions\nfrom pyspark.context import SparkContext\nfrom awsglue.context import GlueContext\nfrom awsglue.job import Job\n  \nsc = SparkContext.getOrCreate()\nglueContext = GlueContext(sc)\nspark = glueContext.spark_session\njob = Job(glueContext)",
			"metadata": {
				"trusted": true,
				"editable": true
			},
			"execution_count": 1,
			"outputs": [
				{
					"name": "stdout",
					"text": "Current idle_timeout is None minutes.\nidle_timeout has been set to 2880 minutes.\nSetting Glue version to: 4.0\nPrevious worker type: None\nSetting new worker type to: G.1X\nPrevious number of workers: None\nSetting new number of workers to: 2\nTrying to create a Glue session for the kernel.\nSession Type: glueetl\nWorker Type: G.1X\nNumber of Workers: 2\nIdle Timeout: 2880\nSession ID: aec64ff9-c1c9-48e7-af83-e3da3443f0c9\nApplying the following default arguments:\n--glue_kernel_version 1.0.5\n--enable-glue-datacatalog true\nWaiting for session aec64ff9-c1c9-48e7-af83-e3da3443f0c9 to get into ready status...\nSession aec64ff9-c1c9-48e7-af83-e3da3443f0c9 has been created.\n\n",
					"output_type": "stream"
				}
			]
		},
		{
			"cell_type": "markdown",
			"source": "#### Start\n",
			"metadata": {
				"editable": true,
				"trusted": true
			}
		},
		{
			"cell_type": "code",
			"source": "from pyspark.sql import SparkSession\nfrom pyspark.sql.window import Window\nfrom pyspark.sql.functions import col, avg, when, floor, trim, concat, lit, desc, lag, sum, to_date, concat_ws, date_format\nfrom pyspark.sql import functions as F",
			"metadata": {
				"trusted": true,
				"editable": true
			},
			"execution_count": 2,
			"outputs": [
				{
					"name": "stdout",
					"text": "\n",
					"output_type": "stream"
				}
			]
		},
		{
			"cell_type": "code",
			"source": "from awsglue.dynamicframe import DynamicFrame\n\n# Initialize a Spark context\nspark_context = SparkContext.getOrCreate()\n\n# Initialize a Glue context\nglue_context = GlueContext(spark_context)\n\n# Specify the S3 path to your Parquet file\nparquet_path = \"s3://airtime-historical-data/clean/pipeline-1/\"\n\n# Read the Parquet file into a Spark DataFrame\ndf = glue_context.spark_session.read.parquet(parquet_path)\n\n# Show the first few rows of the DataFrame to verify it's loaded correctly\ndf.show()\n",
			"metadata": {
				"trusted": true,
				"tags": []
			},
			"execution_count": 3,
			"outputs": [
				{
					"name": "stdout",
					"text": "+-------+--------+------------+----------+------------+--------+--------+----+-----------------+-------------+---------+-----+------+----+\n|deptime|depdelay|carrierdelay|dayofmonth|weatherdelay|arrdelay|nasdelay|year|lateaircraftdelay|securitydelay|dayofweek|month|origin|dest|\n+-------+--------+------------+----------+------------+--------+--------+----+-----------------+-------------+---------+-----+------+----+\n|   1528|      13|        null|        22|        null|       4|    null|1995|             null|         null|        6|    7|   GSP| ATL|\n|   1527|      -4|           0|         2|           0|       5|       0|2005|                0|            0|        7|    1|   ALB| ATL|\n|   1633|      63|        null|        19|        null|      71|    null|2001|             null|         null|        6|    5|   LGA| ATL|\n|   1740|      10|          10|         2|           0|      37|      27|2004|                0|            0|        1|    8|   ATL| DCA|\n|   1718|       9|        null|         5|        null|      22|    null|1993|             null|         null|        4|    8|   ATL| MGM|\n|   1739|      -1|        null|        15|        null|      -5|    null|1996|             null|         null|        4|    2|   ORF| CVG|\n|   1833|      23|        null|        18|        null|      39|    null|1996|             null|         null|        1|   11|   HSV| ATL|\n|   2125|      85|        null|        21|        null|      84|    null|1995|             null|         null|        5|    7|   DCA| DFW|\n|    824|      -1|        null|        25|        null|       6|    null|1991|             null|         null|        1|    3|   ATL| CLE|\n|   1927|      32|        null|        19|        null|      18|    null|1991|             null|         null|        5|    7|   MSP| SLC|\n|   2126|       1|        null|        14|        null|       4|    null|1997|             null|         null|        1|    7|   ATL| TPA|\n|   1914|      12|        null|        25|        null|      25|    null|1989|             null|         null|        4|    5|   ATL| SFO|\n|    806|       6|           6|         5|           0|      16|      10|2005|                0|            0|        6|    2|   ATL| SFO|\n|   2200|      10|        null|        18|        null|      15|    null|1993|             null|         null|        2|    5|   LAX| TUS|\n|   1210|      16|        null|        19|        null|      19|    null|1993|             null|         null|        3|    5|   ATL| PNS|\n|    817|       1|        null|        16|        null|       1|    null|1995|             null|         null|        6|    9|   DFW| SAN|\n|   1902|       7|        null|        12|        null|       1|    null|2001|             null|         null|        3|   12|   CVG| RIC|\n|   1512|      -3|        null|        22|        null|       1|    null|1997|             null|         null|        1|   12|   DEN| DFW|\n|   1207|      -3|        null|        25|        null|       8|    null|2002|             null|         null|        4|    4|   PBI| BOS|\n|   1942|      12|           0|        31|           0|       3|       0|2007|                0|            0|        6|    3|   CVG| PIT|\n+-------+--------+------------+----------+------------+--------+--------+----+-----------------+-------------+---------+-----+------+----+\nonly showing top 20 rows\n",
					"output_type": "stream"
				}
			]
		},
		{
			"cell_type": "markdown",
			"source": "#### Create Season column based on month",
			"metadata": {}
		},
		{
			"cell_type": "code",
			"source": "df = df.withColumn(\n    \"Season\",\n    F.when((df[\"month\"] == 12) | (df[\"month\"] == 1) | (df[\"month\"] == 2), \"Winter\")\n     .when((df[\"month\"] >= 3) & (df[\"month\"] <= 5), \"Spring\")\n     .when((df[\"month\"] >= 6) & (df[\"month\"] <= 8), \"Summer\")\n     .when((df[\"month\"] >= 9) & (df[\"month\"] <= 11), \"Fall\")\n)\n\n# Show the DataFrame to verify the new column\ndf.show()\n",
			"metadata": {
				"trusted": true,
				"tags": []
			},
			"execution_count": 4,
			"outputs": [
				{
					"name": "stdout",
					"text": "+-------+--------+------------+----------+------------+--------+--------+----+-----------------+-------------+---------+-----+------+----+------+\n|deptime|depdelay|carrierdelay|dayofmonth|weatherdelay|arrdelay|nasdelay|year|lateaircraftdelay|securitydelay|dayofweek|month|origin|dest|Season|\n+-------+--------+------------+----------+------------+--------+--------+----+-----------------+-------------+---------+-----+------+----+------+\n|   1528|      13|        null|        22|        null|       4|    null|1995|             null|         null|        6|    7|   GSP| ATL|Summer|\n|   1527|      -4|           0|         2|           0|       5|       0|2005|                0|            0|        7|    1|   ALB| ATL|Winter|\n|   1633|      63|        null|        19|        null|      71|    null|2001|             null|         null|        6|    5|   LGA| ATL|Spring|\n|   1740|      10|          10|         2|           0|      37|      27|2004|                0|            0|        1|    8|   ATL| DCA|Summer|\n|   1718|       9|        null|         5|        null|      22|    null|1993|             null|         null|        4|    8|   ATL| MGM|Summer|\n|   1739|      -1|        null|        15|        null|      -5|    null|1996|             null|         null|        4|    2|   ORF| CVG|Winter|\n|   1833|      23|        null|        18|        null|      39|    null|1996|             null|         null|        1|   11|   HSV| ATL|  Fall|\n|   2125|      85|        null|        21|        null|      84|    null|1995|             null|         null|        5|    7|   DCA| DFW|Summer|\n|    824|      -1|        null|        25|        null|       6|    null|1991|             null|         null|        1|    3|   ATL| CLE|Spring|\n|   1927|      32|        null|        19|        null|      18|    null|1991|             null|         null|        5|    7|   MSP| SLC|Summer|\n|   2126|       1|        null|        14|        null|       4|    null|1997|             null|         null|        1|    7|   ATL| TPA|Summer|\n|   1914|      12|        null|        25|        null|      25|    null|1989|             null|         null|        4|    5|   ATL| SFO|Spring|\n|    806|       6|           6|         5|           0|      16|      10|2005|                0|            0|        6|    2|   ATL| SFO|Winter|\n|   2200|      10|        null|        18|        null|      15|    null|1993|             null|         null|        2|    5|   LAX| TUS|Spring|\n|   1210|      16|        null|        19|        null|      19|    null|1993|             null|         null|        3|    5|   ATL| PNS|Spring|\n|    817|       1|        null|        16|        null|       1|    null|1995|             null|         null|        6|    9|   DFW| SAN|  Fall|\n|   1902|       7|        null|        12|        null|       1|    null|2001|             null|         null|        3|   12|   CVG| RIC|Winter|\n|   1512|      -3|        null|        22|        null|       1|    null|1997|             null|         null|        1|   12|   DEN| DFW|Winter|\n|   1207|      -3|        null|        25|        null|       8|    null|2002|             null|         null|        4|    4|   PBI| BOS|Spring|\n|   1942|      12|           0|        31|           0|       3|       0|2007|                0|            0|        6|    3|   CVG| PIT|Spring|\n+-------+--------+------------+----------+------------+--------+--------+----+-----------------+-------------+---------+-----+------+----+------+\nonly showing top 20 rows\n",
					"output_type": "stream"
				}
			]
		},
		{
			"cell_type": "markdown",
			"source": "#### Create Total Delay Column based on arrival + departure delay",
			"metadata": {}
		},
		{
			"cell_type": "code",
			"source": "# Create a new column 'Total delay' by adding 'depdelay' and 'arrdelay'\ndf = df.withColumn(\"totaldelay\", F.col(\"depdelay\") + F.col(\"arrdelay\"))\n\n# Show the updated DataFrame to verify the new column\ndf.show()",
			"metadata": {
				"trusted": true,
				"tags": []
			},
			"execution_count": 5,
			"outputs": [
				{
					"name": "stdout",
					"text": "+-------+--------+------------+----------+------------+--------+--------+----+-----------------+-------------+---------+-----+------+----+------+----------+\n|deptime|depdelay|carrierdelay|dayofmonth|weatherdelay|arrdelay|nasdelay|year|lateaircraftdelay|securitydelay|dayofweek|month|origin|dest|Season|totaldelay|\n+-------+--------+------------+----------+------------+--------+--------+----+-----------------+-------------+---------+-----+------+----+------+----------+\n|   1528|      13|        null|        22|        null|       4|    null|1995|             null|         null|        6|    7|   GSP| ATL|Summer|        17|\n|   1527|      -4|           0|         2|           0|       5|       0|2005|                0|            0|        7|    1|   ALB| ATL|Winter|         1|\n|   1633|      63|        null|        19|        null|      71|    null|2001|             null|         null|        6|    5|   LGA| ATL|Spring|       134|\n|   1740|      10|          10|         2|           0|      37|      27|2004|                0|            0|        1|    8|   ATL| DCA|Summer|        47|\n|   1718|       9|        null|         5|        null|      22|    null|1993|             null|         null|        4|    8|   ATL| MGM|Summer|        31|\n|   1739|      -1|        null|        15|        null|      -5|    null|1996|             null|         null|        4|    2|   ORF| CVG|Winter|        -6|\n|   1833|      23|        null|        18|        null|      39|    null|1996|             null|         null|        1|   11|   HSV| ATL|  Fall|        62|\n|   2125|      85|        null|        21|        null|      84|    null|1995|             null|         null|        5|    7|   DCA| DFW|Summer|       169|\n|    824|      -1|        null|        25|        null|       6|    null|1991|             null|         null|        1|    3|   ATL| CLE|Spring|         5|\n|   1927|      32|        null|        19|        null|      18|    null|1991|             null|         null|        5|    7|   MSP| SLC|Summer|        50|\n|   2126|       1|        null|        14|        null|       4|    null|1997|             null|         null|        1|    7|   ATL| TPA|Summer|         5|\n|   1914|      12|        null|        25|        null|      25|    null|1989|             null|         null|        4|    5|   ATL| SFO|Spring|        37|\n|    806|       6|           6|         5|           0|      16|      10|2005|                0|            0|        6|    2|   ATL| SFO|Winter|        22|\n|   2200|      10|        null|        18|        null|      15|    null|1993|             null|         null|        2|    5|   LAX| TUS|Spring|        25|\n|   1210|      16|        null|        19|        null|      19|    null|1993|             null|         null|        3|    5|   ATL| PNS|Spring|        35|\n|    817|       1|        null|        16|        null|       1|    null|1995|             null|         null|        6|    9|   DFW| SAN|  Fall|         2|\n|   1902|       7|        null|        12|        null|       1|    null|2001|             null|         null|        3|   12|   CVG| RIC|Winter|         8|\n|   1512|      -3|        null|        22|        null|       1|    null|1997|             null|         null|        1|   12|   DEN| DFW|Winter|        -2|\n|   1207|      -3|        null|        25|        null|       8|    null|2002|             null|         null|        4|    4|   PBI| BOS|Spring|         5|\n|   1942|      12|           0|        31|           0|       3|       0|2007|                0|            0|        6|    3|   CVG| PIT|Spring|        15|\n+-------+--------+------------+----------+------------+--------+--------+----+-----------------+-------------+---------+-----+------+----+------+----------+\nonly showing top 20 rows\n",
					"output_type": "stream"
				}
			]
		},
		{
			"cell_type": "markdown",
			"source": "#### Create Severity column based on departure delay",
			"metadata": {}
		},
		{
			"cell_type": "code",
			"source": "df = df.withColumn(\n    \"Severity\",\n    F.when(df[\"totaldelay\"] < 60, \"Minimal\")\n     .when((df[\"totaldelay\"] >= 60) & (df[\"totaldelay\"] < 120), \"Moderate\")\n     .when((df[\"totaldelay\"] >= 120) & (df[\"totaldelay\"] < 180), \"Major\")\n     .when((df[\"totaldelay\"] >= 180) & (df[\"totaldelay\"] <= 360), \"Significant\")\n     .when(df[\"totaldelay\"] > 360, \"Severe\")\n     .otherwise(\"No Delay\")\n)\n\n# Show the DataFrame to verify the new column\ndf.show()",
			"metadata": {
				"trusted": true,
				"tags": []
			},
			"execution_count": 6,
			"outputs": [
				{
					"name": "stdout",
					"text": "+-------+--------+------------+----------+------------+--------+--------+----+-----------------+-------------+---------+-----+------+----+------+----------+--------+\n|deptime|depdelay|carrierdelay|dayofmonth|weatherdelay|arrdelay|nasdelay|year|lateaircraftdelay|securitydelay|dayofweek|month|origin|dest|Season|totaldelay|Severity|\n+-------+--------+------------+----------+------------+--------+--------+----+-----------------+-------------+---------+-----+------+----+------+----------+--------+\n|   1528|      13|        null|        22|        null|       4|    null|1995|             null|         null|        6|    7|   GSP| ATL|Summer|        17| Minimal|\n|   1527|      -4|           0|         2|           0|       5|       0|2005|                0|            0|        7|    1|   ALB| ATL|Winter|         1| Minimal|\n|   1633|      63|        null|        19|        null|      71|    null|2001|             null|         null|        6|    5|   LGA| ATL|Spring|       134|   Major|\n|   1740|      10|          10|         2|           0|      37|      27|2004|                0|            0|        1|    8|   ATL| DCA|Summer|        47| Minimal|\n|   1718|       9|        null|         5|        null|      22|    null|1993|             null|         null|        4|    8|   ATL| MGM|Summer|        31| Minimal|\n|   1739|      -1|        null|        15|        null|      -5|    null|1996|             null|         null|        4|    2|   ORF| CVG|Winter|        -6| Minimal|\n|   1833|      23|        null|        18|        null|      39|    null|1996|             null|         null|        1|   11|   HSV| ATL|  Fall|        62|Moderate|\n|   2125|      85|        null|        21|        null|      84|    null|1995|             null|         null|        5|    7|   DCA| DFW|Summer|       169|   Major|\n|    824|      -1|        null|        25|        null|       6|    null|1991|             null|         null|        1|    3|   ATL| CLE|Spring|         5| Minimal|\n|   1927|      32|        null|        19|        null|      18|    null|1991|             null|         null|        5|    7|   MSP| SLC|Summer|        50| Minimal|\n|   2126|       1|        null|        14|        null|       4|    null|1997|             null|         null|        1|    7|   ATL| TPA|Summer|         5| Minimal|\n|   1914|      12|        null|        25|        null|      25|    null|1989|             null|         null|        4|    5|   ATL| SFO|Spring|        37| Minimal|\n|    806|       6|           6|         5|           0|      16|      10|2005|                0|            0|        6|    2|   ATL| SFO|Winter|        22| Minimal|\n|   2200|      10|        null|        18|        null|      15|    null|1993|             null|         null|        2|    5|   LAX| TUS|Spring|        25| Minimal|\n|   1210|      16|        null|        19|        null|      19|    null|1993|             null|         null|        3|    5|   ATL| PNS|Spring|        35| Minimal|\n|    817|       1|        null|        16|        null|       1|    null|1995|             null|         null|        6|    9|   DFW| SAN|  Fall|         2| Minimal|\n|   1902|       7|        null|        12|        null|       1|    null|2001|             null|         null|        3|   12|   CVG| RIC|Winter|         8| Minimal|\n|   1512|      -3|        null|        22|        null|       1|    null|1997|             null|         null|        1|   12|   DEN| DFW|Winter|        -2| Minimal|\n|   1207|      -3|        null|        25|        null|       8|    null|2002|             null|         null|        4|    4|   PBI| BOS|Spring|         5| Minimal|\n|   1942|      12|           0|        31|           0|       3|       0|2007|                0|            0|        6|    3|   CVG| PIT|Spring|        15| Minimal|\n+-------+--------+------------+----------+------------+--------+--------+----+-----------------+-------------+---------+-----+------+----+------+----------+--------+\nonly showing top 20 rows\n",
					"output_type": "stream"
				}
			]
		},
		{
			"cell_type": "markdown",
			"source": "#### Output location",
			"metadata": {
				"tags": []
			}
		},
		{
			"cell_type": "code",
			"source": "s3 = \"s3://pipeline1-data-storage/processed-data/\"",
			"metadata": {
				"trusted": true
			},
			"execution_count": 7,
			"outputs": [
				{
					"name": "stdout",
					"text": "\n",
					"output_type": "stream"
				}
			]
		},
		{
			"cell_type": "markdown",
			"source": "#### Saving df",
			"metadata": {}
		},
		{
			"cell_type": "code",
			"source": "df.write.mode(\"overwrite\").parquet(s3 + \"df/\")",
			"metadata": {
				"trusted": true,
				"tags": []
			},
			"execution_count": 8,
			"outputs": [
				{
					"name": "stdout",
					"text": "\n",
					"output_type": "stream"
				}
			]
		}
	]
}