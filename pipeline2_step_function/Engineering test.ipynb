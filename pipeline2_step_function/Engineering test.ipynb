{
	"metadata": {
		"kernelspec": {
			"name": "glue_pyspark",
			"display_name": "Glue PySpark",
			"language": "python"
		},
		"language_info": {
			"name": "Python_Glue_Session",
			"mimetype": "text/x-python",
			"codemirror_mode": {
				"name": "python",
				"version": 3
			},
			"pygments_lexer": "python3",
			"file_extension": ".py"
		}
	},
	"nbformat_minor": 4,
	"nbformat": 4,
	"cells": [
		{
			"cell_type": "markdown",
			"source": "# AWS Glue Studio Notebook\n##### You are now running a AWS Glue Studio notebook; To start using your notebook you need to start an AWS Glue Interactive Session.\n",
			"metadata": {
				"editable": true,
				"trusted": true
			}
		},
		{
			"cell_type": "markdown",
			"source": "####  Run this cell to set up and start your interactive session.\n",
			"metadata": {
				"editable": true,
				"trusted": true
			}
		},
		{
			"cell_type": "code",
			"source": "%idle_timeout 120\n%glue_version 4.0\n%worker_type G.1X\n%number_of_workers 5\n\nimport sys\nfrom awsglue.transforms import *\nfrom awsglue.utils import getResolvedOptions\nfrom pyspark.context import SparkContext\nfrom awsglue.context import GlueContext\nfrom awsglue.job import Job\n  \nsc = SparkContext.getOrCreate()\nglueContext = GlueContext(sc)\nspark = glueContext.spark_session\njob = Job(glueContext)",
			"metadata": {
				"trusted": true,
				"editable": true
			},
			"execution_count": 1,
			"outputs": [
				{
					"name": "stdout",
					"text": "Welcome to the Glue Interactive Sessions Kernel\nFor more information on available magic commands, please type %help in any new cell.\n\nPlease view our Getting Started page to access the most up-to-date information on the Interactive Sessions kernel: https://docs.aws.amazon.com/glue/latest/dg/interactive-sessions.html\nInstalled kernel version: 1.0.5 \nCurrent idle_timeout is None minutes.\nidle_timeout has been set to 120 minutes.\nSetting Glue version to: 4.0\nPrevious worker type: None\nSetting new worker type to: G.1X\nPrevious number of workers: None\nSetting new number of workers to: 5\nTrying to create a Glue session for the kernel.\nSession Type: glueetl\nWorker Type: G.1X\nNumber of Workers: 5\nIdle Timeout: 120\nSession ID: efa9356e-2ce9-41cd-92b6-bd7608fdaf2a\nApplying the following default arguments:\n--glue_kernel_version 1.0.5\n--enable-glue-datacatalog true\nWaiting for session efa9356e-2ce9-41cd-92b6-bd7608fdaf2a to get into ready status...\nSession efa9356e-2ce9-41cd-92b6-bd7608fdaf2a has been created.\n\n",
					"output_type": "stream"
				}
			]
		},
		{
			"cell_type": "markdown",
			"source": "### **Start**",
			"metadata": {}
		},
		{
			"cell_type": "code",
			"source": "from pyspark.sql import SparkSession\nfrom pyspark.sql.window import Window\nfrom pyspark.sql.functions import col, avg, when, floor, trim, concat, lit, desc, lag, sum, to_date, concat_ws, date_format\nfrom pyspark.sql import functions as F",
			"metadata": {
				"trusted": true,
				"tags": []
			},
			"execution_count": 2,
			"outputs": [
				{
					"name": "stdout",
					"text": "\n",
					"output_type": "stream"
				}
			]
		},
		{
			"cell_type": "code",
			"source": "from awsglue.dynamicframe import DynamicFrame\n\n# Initialize a Spark context\nspark_context = SparkContext.getOrCreate()\n\n# Initialize a Glue context\nglue_context = GlueContext(spark_context)\n\n# Specify the S3 path to your Parquet file\nparquet_path = \"s3://airtime-historical-data/clean/pipeline-2/\"\n\n# Read the Parquet file into a Spark DataFrame\ndf = glue_context.spark_session.read.parquet(parquet_path)\n\n# Show the first few rows of the DataFrame to verify it's loaded correctly\ndf.show()\n",
			"metadata": {
				"trusted": true,
				"tags": []
			},
			"execution_count": 3,
			"outputs": [
				{
					"name": "stdout",
					"text": "+-------+-------------+---------+----------+--------+----------+-------+----------+--------+----+---------+--------------+-------+-----+------+----+\n|deptime|uniquecarrier|flightnum|crsarrtime|depdelay|dayofmonth|tailnum|crsdeptime|arrdelay|year|dayofweek|crselapsedtime|arrtime|month|origin|dest|\n+-------+-------------+---------+----------+--------+----------+-------+----------+--------+----+---------+--------------+-------+-----+------+----+\n|   1017|           MQ|     3374|      1115|       3|         1| N932AE|      1020|      10|2007|        5|            55|   1105|    6|   AUS| DAL|\n|   1110|           MQ|     3762|      1220|       5|         2| N693AE|      1115|       4|2007|        1|            65|   1224|    4|   AMA| DFW|\n|    834|           MQ|     4802|       955|       6|        10| N723AE|       840|      27|2007|        4|            75|    928|    5|   LGA| BOS|\n|   1521|           MQ|     3787|      1540|      31|         8| N509AE|      1450|      21|2007|        6|            50|   1601|    9|   DFW| GRK|\n|   1148|           MQ|     3473|      1450|       2|        29| N831AE|      1150|      10|2007|        1|           120|   1440|   10|   DFW| CHA|\n|    657|           MQ|     4158|       740|       3|         5| N941LT|       700|       6|2007|        4|           100|    734|    7|   TYS| ORD|\n|   2006|           MQ|     3638|      2045|      26|         8| N655AE|      1940|      19|2007|        3|            65|   2104|    8|   LBB| DFW|\n|   1537|           MQ|     4919|      1705|      22|         7| N705AE|      1515|      30|2007|        3|           110|   1735|   11|   LGA| CMH|\n|   1649|           MQ|     4378|      1635|      19|        21| N631AE|      1630|      21|2007|        2|            65|   1656|    8|   IND| ORD|\n|   1926|           MQ|     3733|      2035|       6|        20| N923AE|      1920|       7|2007|        2|            75|   2028|    2|   DFW| AMA|\n|   1156|           MQ|     4722|      1500|      21|        24| N735TS|      1135|      19|2007|        6|           145|   1519|    2|   STL| JFK|\n|    911|           MQ|     3639|      1015|       1|        16| N514AE|       910|       7|2007|        5|            65|   1008|    3|   DFW| TUL|\n|    620|           MQ|     3914|       805|      10|        15| N659AE|       610|       8|2007|        6|           115|    813|   12|   ICT| ORD|\n|   1454|           MQ|     4016|      1355|     109|         4| N695AE|      1305|      97|2007|        2|            50|   1532|    9|   ORD| MSN|\n|    841|           MQ|     3413|       935|       4|        19| N617AE|       845|      20|2007|        3|            50|    915|    9|   DFW| GRK|\n|    855|           MQ|     3355|      1000|       5|        19| N683AE|       900|       3|2007|        1|            60|    957|    3|   SAT| DAL|\n|   2017|           MQ|     4711|      2200|       3|        12| N732DH|      2020|      18|2007|        4|           100|   2142|    7|   LGA| RDU|\n|    557|           MQ|     3191|       715|       3|        19| N841AE|       600|       2|2007|        1|            75|    717|    2|   LAX| SJC|\n|   1547|           MQ|     3044|      1635|       2|        19| N396AE|      1545|       3|2007|        6|            50|   1632|    5|   SBA| LAX|\n|   1418|           MQ|     3234|      1525|       5|        11| N384AE|      1423|      11|2007|        7|            62|   1514|   11|   ABI| DFW|\n+-------+-------------+---------+----------+--------+----------+-------+----------+--------+----+---------+--------------+-------+-----+------+----+\nonly showing top 20 rows\n",
					"output_type": "stream"
				}
			]
		},
		{
			"cell_type": "code",
			"source": "# Assuming `df` is your DataFrame\nna_counts = df.select([F.count(F.when(F.col(c).isNull(), c)).alias(c) for c in df.columns])\n\n# Show the result\nna_counts.show()",
			"metadata": {
				"trusted": true,
				"tags": []
			},
			"execution_count": 6,
			"outputs": [
				{
					"name": "stdout",
					"text": "+-------+-------------+---------+----------+--------+----------+-------+----------+--------+----+---------+--------------+-------+-----+------+----+\n|deptime|uniquecarrier|flightnum|crsarrtime|depdelay|dayofmonth|tailnum|crsdeptime|arrdelay|year|dayofweek|crselapsedtime|arrtime|month|origin|dest|\n+-------+-------------+---------+----------+--------+----------+-------+----------+--------+----+---------+--------------+-------+-----+------+----+\n|1087657|            0|        0|         0| 1087657|         0|      0|         0| 1190147|   0|        0|         25695|1188125|    0|     0|   0|\n+-------+-------------+---------+----------+--------+----------+-------+----------+--------+----+---------+--------------+-------+-----+------+----+\n",
					"output_type": "stream"
				}
			]
		},
		{
			"cell_type": "markdown",
			"source": "***Further data cleaning***",
			"metadata": {}
		},
		{
			"cell_type": "code",
			"source": "ini_cnt = df.count()\ndf = df.dropna(subset = [\"deptime\", \"crsarrtime\", \"depdelay\", \"dayofmonth\", \"tailnum\", \"crsdeptime\", \"arrdelay\", \"year\", \"dayofweek\", \"month\", \"arrtime\"])\ndf = df.filter(df[\"tailnum\"] != \"NA\")\nfin_cnt = df.count()\nrows_dropped = ini_cnt - fin_cnt\n\nprint(f\"Number of rows intitally: {ini_cnt}\")\nprint(f\"Number of rows dropped: {rows_dropped}\")\nprint(f\"Number of rows left: {fin_cnt}\")\ndf.show()",
			"metadata": {
				"trusted": true,
				"tags": []
			},
			"execution_count": 7,
			"outputs": [
				{
					"name": "stdout",
					"text": "Number of rows intitally: 43458247\nNumber of rows dropped: 1190147\nNumber of rows left: 42268100\n+-------+-------------+---------+----------+--------+----------+-------+----------+--------+----+---------+--------------+-------+-----+------+----+\n|deptime|uniquecarrier|flightnum|crsarrtime|depdelay|dayofmonth|tailnum|crsdeptime|arrdelay|year|dayofweek|crselapsedtime|arrtime|month|origin|dest|\n+-------+-------------+---------+----------+--------+----------+-------+----------+--------+----+---------+--------------+-------+-----+------+----+\n|   1017|           MQ|     3374|      1115|       3|         1| N932AE|      1020|      10|2007|        5|            55|   1105|    6|   AUS| DAL|\n|   1110|           MQ|     3762|      1220|       5|         2| N693AE|      1115|       4|2007|        1|            65|   1224|    4|   AMA| DFW|\n|    834|           MQ|     4802|       955|       6|        10| N723AE|       840|      27|2007|        4|            75|    928|    5|   LGA| BOS|\n|   1521|           MQ|     3787|      1540|      31|         8| N509AE|      1450|      21|2007|        6|            50|   1601|    9|   DFW| GRK|\n|   1148|           MQ|     3473|      1450|       2|        29| N831AE|      1150|      10|2007|        1|           120|   1440|   10|   DFW| CHA|\n|    657|           MQ|     4158|       740|       3|         5| N941LT|       700|       6|2007|        4|           100|    734|    7|   TYS| ORD|\n|   2006|           MQ|     3638|      2045|      26|         8| N655AE|      1940|      19|2007|        3|            65|   2104|    8|   LBB| DFW|\n|   1537|           MQ|     4919|      1705|      22|         7| N705AE|      1515|      30|2007|        3|           110|   1735|   11|   LGA| CMH|\n|   1649|           MQ|     4378|      1635|      19|        21| N631AE|      1630|      21|2007|        2|            65|   1656|    8|   IND| ORD|\n|   1926|           MQ|     3733|      2035|       6|        20| N923AE|      1920|       7|2007|        2|            75|   2028|    2|   DFW| AMA|\n|   1156|           MQ|     4722|      1500|      21|        24| N735TS|      1135|      19|2007|        6|           145|   1519|    2|   STL| JFK|\n|    911|           MQ|     3639|      1015|       1|        16| N514AE|       910|       7|2007|        5|            65|   1008|    3|   DFW| TUL|\n|    620|           MQ|     3914|       805|      10|        15| N659AE|       610|       8|2007|        6|           115|    813|   12|   ICT| ORD|\n|   1454|           MQ|     4016|      1355|     109|         4| N695AE|      1305|      97|2007|        2|            50|   1532|    9|   ORD| MSN|\n|    841|           MQ|     3413|       935|       4|        19| N617AE|       845|      20|2007|        3|            50|    915|    9|   DFW| GRK|\n|    855|           MQ|     3355|      1000|       5|        19| N683AE|       900|       3|2007|        1|            60|    957|    3|   SAT| DAL|\n|   2017|           MQ|     4711|      2200|       3|        12| N732DH|      2020|      18|2007|        4|           100|   2142|    7|   LGA| RDU|\n|    557|           MQ|     3191|       715|       3|        19| N841AE|       600|       2|2007|        1|            75|    717|    2|   LAX| SJC|\n|   1547|           MQ|     3044|      1635|       2|        19| N396AE|      1545|       3|2007|        6|            50|   1632|    5|   SBA| LAX|\n|   1418|           MQ|     3234|      1525|       5|        11| N384AE|      1423|      11|2007|        7|            62|   1514|   11|   ABI| DFW|\n+-------+-------------+---------+----------+--------+----------+-------+----------+--------+----+---------+--------------+-------+-----+------+----+\nonly showing top 20 rows\n",
					"output_type": "stream"
				}
			]
		},
		{
			"cell_type": "markdown",
			"source": "***Defining output location***",
			"metadata": {}
		},
		{
			"cell_type": "code",
			"source": "s3 = \"s3://pipeline2-data-storage/historic-processed/\"",
			"metadata": {
				"trusted": true,
				"tags": []
			},
			"execution_count": 9,
			"outputs": [
				{
					"name": "stdout",
					"text": "\n",
					"output_type": "stream"
				}
			]
		},
		{
			"cell_type": "markdown",
			"source": "#### **Feature Engineering**",
			"metadata": {}
		},
		{
			"cell_type": "code",
			"source": "# Creating total delay column\ndf = df.withColumn(\"totaldelay\", col(\"depdelay\") + col(\"arrdelay\"))\ndf.head()",
			"metadata": {
				"trusted": true,
				"tags": []
			},
			"execution_count": 10,
			"outputs": [
				{
					"name": "stdout",
					"text": "Row(deptime=1017, uniquecarrier='MQ', flightnum='3374', crsarrtime=1115, depdelay=3, dayofmonth=1, tailnum='N932AE', crsdeptime=1020, arrdelay=10, year=2007, dayofweek=5, crselapsedtime=55, arrtime=1105, month=6, origin='AUS', dest='DAL', totaldelay=13)\n",
					"output_type": "stream"
				}
			]
		},
		{
			"cell_type": "code",
			"source": "# Creating a time of year column to see seasonality\ndf = df.withColumn(\"season\", when(col(\"month\").isin(12, 1, 2), \"Winter\") .when(col(\"month\").between(3, 5), \"Spring\") .when(col(\"month\").between(6, 8), \"Summer\") .when(col(\"month\").between(9, 11), \"Fall\") )\ndf.head()",
			"metadata": {
				"trusted": true,
				"tags": []
			},
			"execution_count": 11,
			"outputs": [
				{
					"name": "stdout",
					"text": "Row(deptime=1017, uniquecarrier='MQ', flightnum='3374', crsarrtime=1115, depdelay=3, dayofmonth=1, tailnum='N932AE', crsdeptime=1020, arrdelay=10, year=2007, dayofweek=5, crselapsedtime=55, arrtime=1105, month=6, origin='AUS', dest='DAL', totaldelay=13, season='Summer')\n",
					"output_type": "stream"
				}
			]
		},
		{
			"cell_type": "code",
			"source": "# Creating the scheduled arrival/departure HOUR column to see time of day\ndf = df.withColumn(\"scheduledarrhour\", floor(col(\"crsarrtime\") / 100))\ndf = df.withColumn(\"scheduleddephour\", floor(col(\"crsdeptime\") / 100))\ndf.head()",
			"metadata": {
				"trusted": true,
				"tags": []
			},
			"execution_count": 12,
			"outputs": [
				{
					"name": "stdout",
					"text": "Row(deptime=1017, uniquecarrier='MQ', flightnum='3374', crsarrtime=1115, depdelay=3, dayofmonth=1, tailnum='N932AE', crsdeptime=1020, arrdelay=10, year=2007, dayofweek=5, crselapsedtime=55, arrtime=1105, month=6, origin='AUS', dest='DAL', totaldelay=13, season='Summer', scheduledarrhour=11, scheduleddephour=10)\n",
					"output_type": "stream"
				}
			]
		},
		{
			"cell_type": "code",
			"source": "# Creating a column to check if it is a long haul flight\ndf = df.withColumn(\"longhaulflight\", when(col(\"crselapsedtime\") > 360, 1).otherwise(0))\ndf.head()",
			"metadata": {
				"trusted": true,
				"tags": []
			},
			"execution_count": 13,
			"outputs": [
				{
					"name": "stdout",
					"text": "Row(deptime=1017, uniquecarrier='MQ', flightnum='3374', crsarrtime=1115, depdelay=3, dayofmonth=1, tailnum='N932AE', crsdeptime=1020, arrdelay=10, year=2007, dayofweek=5, crselapsedtime=55, arrtime=1105, month=6, origin='AUS', dest='DAL', totaldelay=13, season='Summer', scheduledarrhour=11, scheduleddephour=10, longhaulflight=0)\n",
					"output_type": "stream"
				}
			]
		},
		{
			"cell_type": "code",
			"source": "# Get route of the flight\ndf = df.withColumn(\"route\", concat(col(\"origin\"), lit(\"-\"), col(\"dest\")))\ndf.show(2)",
			"metadata": {
				"trusted": true,
				"tags": []
			},
			"execution_count": 14,
			"outputs": [
				{
					"name": "stdout",
					"text": "+-------+-------------+---------+----------+--------+----------+-------+----------+--------+----+---------+--------------+-------+-----+------+----+----------+------+----------------+----------------+--------------+-------+\n|deptime|uniquecarrier|flightnum|crsarrtime|depdelay|dayofmonth|tailnum|crsdeptime|arrdelay|year|dayofweek|crselapsedtime|arrtime|month|origin|dest|totaldelay|season|scheduledarrhour|scheduleddephour|longhaulflight|  route|\n+-------+-------------+---------+----------+--------+----------+-------+----------+--------+----+---------+--------------+-------+-----+------+----+----------+------+----------------+----------------+--------------+-------+\n|   1017|           MQ|     3374|      1115|       3|         1| N932AE|      1020|      10|2007|        5|            55|   1105|    6|   AUS| DAL|        13|Summer|              11|              10|             0|AUS-DAL|\n|   1110|           MQ|     3762|      1220|       5|         2| N693AE|      1115|       4|2007|        1|            65|   1224|    4|   AMA| DFW|         9|Spring|              12|              11|             0|AMA-DFW|\n+-------+-------------+---------+----------+--------+----------+-------+----------+--------+----+---------+--------------+-------+-----+------+----+----------+------+----------------+----------------+--------------+-------+\nonly showing top 2 rows\n",
					"output_type": "stream"
				}
			]
		},
		{
			"cell_type": "code",
			"source": "# Create date\ndf = df.withColumn(\n    \"flightdate\",\n        to_date(concat_ws(\"-\", col(\"dayofmonth\").cast(\"string\"), col(\"month\").cast(\"string\"), col(\"year\").cast(\"string\")), \"d-M-yyyy\")\n    )\ndf.show(3)",
			"metadata": {
				"trusted": true,
				"tags": []
			},
			"execution_count": 15,
			"outputs": [
				{
					"name": "stdout",
					"text": "+-------+-------------+---------+----------+--------+----------+-------+----------+--------+----+---------+--------------+-------+-----+------+----+----------+------+----------------+----------------+--------------+-------+----------+\n|deptime|uniquecarrier|flightnum|crsarrtime|depdelay|dayofmonth|tailnum|crsdeptime|arrdelay|year|dayofweek|crselapsedtime|arrtime|month|origin|dest|totaldelay|season|scheduledarrhour|scheduleddephour|longhaulflight|  route|flightdate|\n+-------+-------------+---------+----------+--------+----------+-------+----------+--------+----+---------+--------------+-------+-----+------+----+----------+------+----------------+----------------+--------------+-------+----------+\n|   1017|           MQ|     3374|      1115|       3|         1| N932AE|      1020|      10|2007|        5|            55|   1105|    6|   AUS| DAL|        13|Summer|              11|              10|             0|AUS-DAL|2007-06-01|\n|   1110|           MQ|     3762|      1220|       5|         2| N693AE|      1115|       4|2007|        1|            65|   1224|    4|   AMA| DFW|         9|Spring|              12|              11|             0|AMA-DFW|2007-04-02|\n|    834|           MQ|     4802|       955|       6|        10| N723AE|       840|      27|2007|        4|            75|    928|    5|   LGA| BOS|        33|Spring|               9|               8|             0|LGA-BOS|2007-05-10|\n+-------+-------------+---------+----------+--------+----------+-------+----------+--------+----+---------+--------------+-------+-----+------+----+----------+------+----------------+----------------+--------------+-------+----------+\nonly showing top 3 rows\n",
					"output_type": "stream"
				}
			]
		},
		{
			"cell_type": "markdown",
			"source": "*Saving df*",
			"metadata": {}
		},
		{
			"cell_type": "code",
			"source": "df.write.mode(\"overwrite\").parquet(s3 + \"df/\")",
			"metadata": {
				"trusted": true,
				"tags": []
			},
			"execution_count": 16,
			"outputs": [
				{
					"name": "stdout",
					"text": "\n",
					"output_type": "stream"
				}
			]
		},
		{
			"cell_type": "markdown",
			"source": "***Cascading Effect***",
			"metadata": {}
		},
		{
			"cell_type": "code",
			"source": "## To ensure that we are careful when taking care of the cumulative delay\n\ndf_cascade = df\n\n# Define a window partitioned by TailNum, ordered by FlightDate and DepTime\nwindow_spec = Window.partitionBy(\"TailNum\").orderBy(\"FlightDate\", \"DepTime\")\n\n# Get the previous destination and arrival delay for the same aircraft\ndf_cascade = df_cascade.withColumn(\"PrevDest\", lag(\"Dest\").over(window_spec))\ndf_cascade = df_cascade.withColumn(\"PrevArrDelay\", lag(\"ArrDelay\").over(window_spec))\n\n# Check if the current flight’s origin matches the previous flight's destination\ndf_cascade = df_cascade.withColumn(\"IsConnected\", (col(\"Origin\") == col(\"PrevDest\")).cast(\"int\"))\n\n# Set effective arrival delay only if flights are connected\ndf_cascade = df_cascade.withColumn(\n    \"EffectivePrevArrDelay\", \n    when(col(\"IsConnected\") == 1, col(\"PrevArrDelay\")).otherwise(0)\n)\n\n# Define a cumulative sum window, but reset for disconnected flights\ncumulative_window = Window.partitionBy(\"TailNum\").orderBy(\"FlightDate\", \"DepTime\") \\\n                          .rowsBetween(Window.unboundedPreceding, Window.currentRow)\n\n# Calculate the cumulative departure delay (only for connected flights)\ndf_cascade = df_cascade.withColumn(\n    \"CumulativeDepDelay\",\n    sum(col(\"DepDelay\") + col(\"EffectivePrevArrDelay\")).over(cumulative_window)\n)\n\n# Show relevant columns to verify\ndf_cascade.select(\n    \"TailNum\", \"FlightDate\", \"FlightNum\", \"Origin\", \"Dest\", \n    \"DepTime\", \"crsdeptime\", \"ArrDelay\", \"PrevDest\", \"IsConnected\", \n    \"EffectivePrevArrDelay\", \"CumulativeDepDelay\"\n).show(20, truncate=False)",
			"metadata": {
				"trusted": true,
				"tags": []
			},
			"execution_count": 17,
			"outputs": [
				{
					"name": "stdout",
					"text": "+-------+----------+---------+------+----+-------+----------+--------+--------+-----------+---------------------+------------------+\n|TailNum|FlightDate|FlightNum|Origin|Dest|DepTime|crsdeptime|ArrDelay|PrevDest|IsConnected|EffectivePrevArrDelay|CumulativeDepDelay|\n+-------+----------+---------+------+----+-------+----------+--------+--------+-----------+---------------------+------------------+\n|-N123D |2001-01-28|547      |ATL   |LAS |2146   |2145      |2       |null    |null       |0                    |1                 |\n|-N123D |2001-01-29|352      |LAS   |DFW |717    |715       |5       |LAS     |1          |2                    |5                 |\n|-N123D |2001-01-29|301      |ATL   |DEN |1759   |1805      |21      |DFW     |0          |0                    |11                |\n|-N123D |2001-01-30|1275     |DEN   |SLC |559    |600       |3       |DEN     |1          |21                   |33                |\n|-N123D |2001-01-30|306      |SLC   |DFW |903    |845       |33      |SLC     |1          |3                    |54                |\n|-N123D |2001-01-30|306      |DFW   |MCO |1330   |1325      |10      |DFW     |1          |33                   |92                |\n|-N123D |2001-01-30|659      |DFW   |LAX |2106   |2110      |4       |MCO     |0          |0                    |96                |\n|-N123D |2001-01-31|1614     |LAX   |DFW |649    |650       |8       |LAX     |1          |4                    |101               |\n|-N123D |2001-01-31|1614     |DFW   |MSY |1310   |1320      |1       |DFW     |1          |8                    |119               |\n|-N123D |2001-01-31|734      |MSY   |ATL |1546   |1550      |7       |MSY     |1          |1                    |124               |\n|-N123D |2001-02-01|352      |LAS   |DFW |714    |715       |2       |ATL     |0          |0                    |125               |\n|-N123D |2001-02-01|1066     |DFW   |ATL |1303   |1300      |5       |DFW     |1          |2                    |130               |\n|-N123D |2001-02-01|689      |ATL   |PHX |1759   |1755      |1       |ATL     |1          |5                    |139               |\n|-N123D |2001-02-01|689      |PHX   |LAS |2100   |2110      |8       |PHX     |1          |1                    |150               |\n|-N123D |2001-02-02|2080     |ATL   |CVG |618    |620       |6       |LAS     |0          |0                    |152               |\n|-N123D |2001-02-02|539      |CVG   |PBI |903    |855       |16      |CVG     |1          |6                    |166               |\n|-N123D |2001-02-02|702      |PBI   |LGA |1224   |1220      |18      |PBI     |1          |16                   |186               |\n|-N123D |2001-02-02|181      |LGA   |PBI |1620   |1610      |36      |LGA     |1          |18                   |214               |\n|-N123D |2001-02-02|530      |PBI   |LGA |2028   |2010      |74      |PBI     |1          |36                   |268               |\n|-N123D |2001-02-03|407      |LGA   |FLL |702    |700       |5       |LGA     |1          |74                   |344               |\n+-------+----------+---------+------+----+-------+----------+--------+--------+-----------+---------------------+------------------+\nonly showing top 20 rows\n",
					"output_type": "stream"
				}
			]
		},
		{
			"cell_type": "code",
			"source": "# Now order the DataFrame by the \"date\" column in ascending order (earliest to latest)\nordered_df = df_cascade.orderBy(\"FlightDate\", ascending=False)\n\n# Show the ordered DataFrame\nordered_df.show()",
			"metadata": {
				"trusted": true,
				"tags": []
			},
			"execution_count": 18,
			"outputs": [
				{
					"name": "stdout",
					"text": "+-------+-------------+---------+----------+--------+----------+-------+----------+--------+----+---------+--------------+-------+-----+------+----+----------+------+----------------+----------------+--------------+-------+----------+--------+------------+-----------+---------------------+------------------+\n|deptime|uniquecarrier|flightnum|crsarrtime|depdelay|dayofmonth|tailnum|crsdeptime|arrdelay|year|dayofweek|crselapsedtime|arrtime|month|origin|dest|totaldelay|season|scheduledarrhour|scheduleddephour|longhaulflight|  route|flightdate|PrevDest|PrevArrDelay|IsConnected|EffectivePrevArrDelay|CumulativeDepDelay|\n+-------+-------------+---------+----------+--------+----------+-------+----------+--------+----+---------+--------------+-------+-----+------+----+----------+------+----------------+----------------+--------------+-------+----------+--------+------------+-----------+---------------------+------------------+\n|   1852|           WN|     2696|      2125|      27|        31| N210WN|      1825|       7|2024|        6|           120|   2132|    8|   LAS| DEN|        34|Summer|              21|              18|             0|LAS-DEN|2024-08-31|     BUR|          19|          0|                    0|            109622|\n|    811|           9E|     5119|      1013|      -4|        31| N316PQ|       815|     -11|2024|        6|           178|   1002|    8|   RIC| MSP|       -15|Summer|              10|               8|             0|RIC-MSP|2024-08-31|     MSP|         -11|          0|                    0|              1396|\n|   1844|           WN|     2537|      1750|      14|        31| N226WN|      1830|      19|2024|        6|           105|   1809|    8|   CMH| ELP|        33|Summer|              17|              18|             0|CMH-ELP|2024-08-31|     MCO|         -15|          0|                    0|            106366|\n|   1111|           AA|     2110|      1948|      -4|        31| N111ZM|      1115|      -8|2024|        6|           333|   1940|    8|   LAX| BOS|       -12|Summer|              19|              11|             0|LAX-BOS|2024-08-31|     LAX|         -22|          1|                  -22|               444|\n|    800|           YX|     5818|      1322|      -5|        31| N229JQ|       805|      -9|2024|        6|           150|   1313|    8|   TVC| TVC|       -14|Summer|              13|               8|             0|TVC-TVC|2024-08-31|     MKE|         -21|          0|                    0|              2248|\n|   1148|           DL|     1408|      1302|       7|        31| N114DN|      1141|      12|2024|        6|           141|   1314|    8|   ATL| SAT|        19|Summer|              13|              11|             0|ATL-SAT|2024-08-31|     ATL|          17|          1|                   17|              5277|\n|    837|           MQ|     3962|       813|      -7|        31| N229NN|       844|      -9|2024|        6|            51|    804|    8|   PHX| PHX|       -16|Summer|               8|               8|             0|PHX-PHX|2024-08-31|     PHX|          -7|          1|                   -7|              7126|\n|   1424|           DL|     1408|      1302|      17|        31| N114DN|      1407|      12|2024|        6|           153|   1314|    8|   ATL| ATL|        29|Summer|              13|              14|             0|ATL-ATL|2024-08-31|     SAT|          -5|          0|                    0|              5313|\n|    837|           MQ|     3962|       813|      -7|        31| N229NN|       844|      -9|2024|        6|            51|    804|    8|   PHX| PHX|       -16|Summer|               8|               8|             0|PHX-PHX|2024-08-31|     PHX|          -9|          1|                   -9|              7110|\n|   1853|           DL|      711|      2012|      -6|        31| N114DN|      1859|      -5|2024|        6|           253|   2007|    8|   ATL| LAS|       -11|Summer|              20|              18|             0|ATL-LAS|2024-08-31|     ATL|          -5|          1|                   -5|              5319|\n|    837|           MQ|     3962|       813|      -7|        31| N229NN|       844|      -9|2024|        6|            51|    804|    8|   PHX| PHX|       -16|Summer|               8|               8|             0|PHX-PHX|2024-08-31|     PHX|          -9|          1|                   -9|              7094|\n|   1433|           AA|     1285|      1338|      -6|        31| N152AA|      1439|     -21|2024|        6|           258|   1317|    8|   DFW| DFW|       -27|Summer|              13|              14|             0|DFW-DFW|2024-08-31|     PHL|         -40|          0|                    0|              2195|\n|    837|           MQ|     3962|       813|      -7|        31| N229NN|       844|      -9|2024|        6|            51|    804|    8|   PHX| PHX|       -16|Summer|               8|               8|             0|PHX-PHX|2024-08-31|     PHX|          -9|          1|                   -9|              7078|\n|   1759|           UA|     1934|      2154|      -6|        31| N15712|      1805|     -30|2024|        6|           169|   2124|    8|   IAH| CLE|       -36|Summer|              21|              18|             0|IAH-CLE|2024-08-31|     IAH|         -18|          1|                  -18|              3018|\n|   1742|           WN|     3482|      2325|      -3|        31| N244WN|      1745|      42|2024|        6|           220|      7|    8|   DEN| PHL|        39|Summer|              23|              17|             0|DEN-PHL|2024-08-31|     STL|         -12|          0|                    0|            102876|\n|   1516|           AA|     1750|      1945|      -7|        31| N161AA|      1523|      14|2024|        6|            85|   1959|    8|   PHX| PHX|         7|Summer|              19|              15|             0|PHX-PHX|2024-08-31|     LAX|        1144|          0|                    0|              2841|\n|   1153|           UA|     2196|      1045|     133|        31| N24715|       940|     120|2024|        6|            65|   1245|    8|   AUS| IAH|       253|Summer|              10|               9|             0|AUS-IAH|2024-08-31|     IAH|           6|          0|                    0|              2370|\n|   1029|           YX|     5706|      1207|      -6|        31| N204JQ|      1035|      -9|2024|        6|            92|   1158|    8|   BOS| PHL|       -15|Summer|              12|              10|             0|BOS-PHL|2024-08-31|     BOS|         -21|          1|                  -21|              -446|\n|   1433|           OO|     4178|      1708|      -2|        31| N260SY|      1435|     -18|2024|        6|            51|   1650|    8|   RST| RST|       -20|Summer|              17|              14|             0|RST-RST|2024-08-31|     BIS|           7|          0|                    0|              3483|\n|   1414|           YX|     5706|      1207|      -1|        31| N204JQ|      1415|      -9|2024|        6|            97|   1158|    8|   BOS| BOS|       -10|Summer|              12|              14|             0|BOS-BOS|2024-08-31|     PHL|         -27|          0|                    0|              -462|\n+-------+-------------+---------+----------+--------+----------+-------+----------+--------+----+---------+--------------+-------+-----+------+----+----------+------+----------------+----------------+--------------+-------+----------+--------+------------+-----------+---------------------+------------------+\nonly showing top 20 rows\n",
					"output_type": "stream"
				}
			]
		},
		{
			"cell_type": "code",
			"source": "# Show relevant columns to verify\ndf_cascade.select(\n    \"TailNum\", \"FlightDate\", \"FlightNum\", \"Origin\", \"Dest\", \n    \"DepTime\", \"crsdeptime\", \"ArrDelay\", \"DepDelay\", \"PrevDest\", \"IsConnected\", \n    \"EffectivePrevArrDelay\", \"CumulativeDepDelay\"\n).show(20, truncate=False)",
			"metadata": {
				"trusted": true,
				"tags": []
			},
			"execution_count": 19,
			"outputs": [
				{
					"name": "stdout",
					"text": "+-------+----------+---------+------+----+-------+----------+--------+--------+--------+-----------+---------------------+------------------+\n|TailNum|FlightDate|FlightNum|Origin|Dest|DepTime|crsdeptime|ArrDelay|DepDelay|PrevDest|IsConnected|EffectivePrevArrDelay|CumulativeDepDelay|\n+-------+----------+---------+------+----+-------+----------+--------+--------+--------+-----------+---------------------+------------------+\n|       |2003-03-01|247      |LGB   |LAS |1428   |1430      |6       |-2      |null    |null       |0                    |-2                |\n|       |2003-03-01|252      |LAS   |LGB |1611   |1610      |-5      |1       |LAS     |1          |6                    |5                 |\n|       |2003-03-02|247      |LGB   |LAS |1428   |1430      |-2      |-2      |LGB     |1          |-5                   |-2                |\n|       |2003-03-02|252      |LAS   |LGB |1607   |1610      |-11     |-3      |LAS     |1          |-2                   |-7                |\n|       |2003-03-03|247      |LGB   |LAS |1427   |1430      |-9      |-3      |LGB     |1          |-11                  |-21               |\n|       |2003-03-03|252      |LAS   |LGB |1613   |1610      |-5      |3       |LAS     |1          |-9                   |-27               |\n|       |2003-03-04|247      |LGB   |LAS |1429   |1430      |7       |-1      |LGB     |1          |-5                   |-33               |\n|       |2003-03-05|247      |LGB   |LAS |1424   |1430      |-2      |-6      |LAS     |0          |0                    |-39               |\n|       |2003-03-05|252      |LAS   |LGB |1608   |1610      |-7      |-2      |LAS     |1          |-2                   |-43               |\n|       |2003-03-06|247      |LGB   |LAS |1428   |1430      |28      |-2      |LGB     |1          |-7                   |-52               |\n|       |2003-03-06|252      |LAS   |LGB |1630   |1610      |16      |20      |LAS     |1          |28                   |-4                |\n|       |2003-03-07|247      |LGB   |LAS |1425   |1430      |4       |-5      |LGB     |1          |16                   |7                 |\n|       |2003-03-07|252      |LAS   |LGB |1605   |1610      |-13     |-5      |LAS     |1          |4                    |6                 |\n|       |2003-03-08|247      |LGB   |LAS |1447   |1430      |19      |17      |LGB     |1          |-13                  |10                |\n|       |2003-03-08|252      |LAS   |LGB |1620   |1610      |3       |10      |LAS     |1          |19                   |39                |\n|       |2003-03-09|247      |LGB   |LAS |1445   |1430      |17      |15      |LGB     |1          |3                    |57                |\n|       |2003-03-09|252      |LAS   |LGB |1620   |1610      |4       |10      |LAS     |1          |17                   |84                |\n|       |2003-03-10|247      |LGB   |LAS |1425   |1430      |-2      |-5      |LGB     |1          |4                    |83                |\n|       |2003-03-10|252      |LAS   |LGB |1606   |1610      |-13     |-4      |LAS     |1          |-2                   |77                |\n|       |2003-03-11|247      |LGB   |LAS |1425   |1430      |-5      |-5      |LGB     |1          |-13                  |59                |\n+-------+----------+---------+------+----+-------+----------+--------+--------+--------+-----------+---------------------+------------------+\nonly showing top 20 rows\n",
					"output_type": "stream"
				}
			]
		},
		{
			"cell_type": "markdown",
			"source": "*Saving df_cascade*",
			"metadata": {}
		},
		{
			"cell_type": "code",
			"source": "df_cascade.write.mode(\"overwrite\").parquet(s3 + \"df-cascade/\")",
			"metadata": {
				"trusted": true,
				"tags": []
			},
			"execution_count": 19,
			"outputs": [
				{
					"name": "stdout",
					"text": "\n",
					"output_type": "stream"
				}
			]
		},
		{
			"cell_type": "code",
			"source": "# df_cascade = df\n\n# # Define a window partitioned by 'TailNum' and ordered by 'FlightDate' and 'DepTime'\n# window_spec = Window.partitionBy(\"TailNum\").orderBy(\"FlightDate\", \"DepTime\")\n\n# # Use 'lag' to get the previous flight's destination and arrival delay for the same aircraft\n# df_cascade = df_cascade.withColumn(\n#     \"PrevDest\", lag(\"Dest\").over(window_spec)\n# ).withColumn(\n#     \"PrevArrDelay\", lag(\"ArrDelay\").over(window_spec)\n# )\n\n# # Check if the current flight’s origin matches the previous flight's destination (same aircraft)\n# df_cascade = df_cascade.withColumn(\n#     \"IsConnected\", (col(\"Origin\") == col(\"PrevDest\")).cast(\"int\")\n# )\n\n# # Calculate cumulative departure delay across connected flights for the same aircraft\n# df_cascade = df_cascade.withColumn(\n#     \"CumulativeDepDelay\",\n#     sum(col(\"DepDelay\") + col(\"PrevArrDelay\") * col(\"IsConnected\")).over(window_spec)\n# )\n\n# # Show relevant columns to verify the results\n# df_cascade.select(\n#     \"TailNum\", \"FlightDate\", \"FlightNum\", \"Origin\", \"Dest\", \n#     \"DepTime\", \"ArrDelay\", \"PrevDest\", \"IsConnected\", \"CumulativeDepDelay\"\n# ).show(10)\n",
			"metadata": {
				"trusted": true,
				"tags": []
			},
			"execution_count": 21,
			"outputs": [
				{
					"name": "stdout",
					"text": "+-------+----------+---------+------+----+-------+--------+--------+-----------+------------------+\n|TailNum|FlightDate|FlightNum|Origin|Dest|DepTime|ArrDelay|PrevDest|IsConnected|CumulativeDepDelay|\n+-------+----------+---------+------+----+-------+--------+--------+-----------+------------------+\n| -N123D|2001-01-28|      547|   ATL| LAS|   2146|      -2|    null|       null|              null|\n| -N123D|2001-01-29|      352|   LAS| DFW|    717|       5|     LAS|          1|               0.0|\n| -N123D|2001-01-29|     1066|   DFW| ATL|   1300|       8|     DFW|          1|               5.0|\n| -N123D|2001-01-29|      301|   ATL| DEN|   1759|     -21|     ATL|          1|               7.0|\n| -N123D|2001-01-30|     1275|   DEN| SLC|    559|      -3|     DEN|          1|             -15.0|\n| -N123D|2001-01-30|      306|   SLC| DFW|    903|      33|     SLC|          1|               0.0|\n| -N123D|2001-01-30|      306|   DFW| MCO|   1330|     -10|     DFW|          1|              38.0|\n| -N123D|2001-01-30|      533|   MCO| DFW|   1810|       2|     MCO|          1|              28.0|\n| -N123D|2001-01-30|      659|   DFW| LAX|   2106|       4|     DFW|          1|              26.0|\n| -N123D|2001-01-31|     1614|   LAX| DFW|    649|      -8|     LAX|          1|              29.0|\n+-------+----------+---------+------+----+-------+--------+--------+-----------+------------------+\nonly showing top 10 rows\n",
					"output_type": "stream"
				}
			]
		},
		{
			"cell_type": "markdown",
			"source": "#### **Data aggregation**",
			"metadata": {}
		},
		{
			"cell_type": "code",
			"source": "# # DATA AGGREGATION FOR CASCADING FLIGHT DELAY PATTERN\n\n# # Group by destination airport to get cumulative delay patterns by each destination\n# df_cumulative_dest = (df_cascade.groupBy(\"Dest\").agg(\n#     F.avg(\"CumulativeDepDelay\").alias(\"AvgCumulativeDepDelay\"),\n#     F.max(\"CumulativeDepDelay\").alias(\"MaxCumulativeDepDelay\"),\n#     F.min(\"CumulativeDepDelay\").alias(\"MinCumulativeDepDelay\")\n# ).orderBy(F.desc(\"AvgCumulativeDepDelay\")))\n\n# # Show results to analyze delay patterns by destination\n# df_cumulative_dest.show(20, truncate=False)\n",
			"metadata": {
				"trusted": true,
				"tags": []
			},
			"execution_count": 18,
			"outputs": [
				{
					"name": "stdout",
					"text": "+----+---------------------+---------------------+---------------------+\n|Dest|AvgCumulativeDepDelay|MaxCumulativeDepDelay|MinCumulativeDepDelay|\n+----+---------------------+---------------------+---------------------+\n|ROP |1.4004172382088414E8 |175018796            |58199339             |\n|ANI |1.3992183489473686E8 |241671908            |10                   |\n|GUM |1.1345049192883277E8 |242883647            |-30                  |\n|SPN |1.1069340587178302E8 |191088217            |2824                 |\n|HVN |1.1050559357592659E8 |243253899            |-1463                |\n|DET |1.0902465258956784E8 |200314328            |28937833             |\n|ROR |9.783379848190789E7  |191067206            |4833                 |\n|KSM |9.613422624680851E7  |243211423            |13                   |\n|PUB |9.230639895828332E7  |160109372            |15334                |\n|TTN |8.610923477876823E7  |171026484            |37601                |\n|ORH |8.570923068662181E7  |201245008            |-450                 |\n|OAJ |8.486910907142857E7  |243252507            |12                   |\n|UCA |8.397753610602911E7  |158577536            |60144                |\n|ACY |8.324427991798858E7  |237887532            |-493                 |\n|HTS |8.249284197279212E7  |243219247            |-154                 |\n|TVL |6.959511043620777E7  |134533034            |24292                |\n|STX |6.868755080280809E7  |243248970            |-5019                |\n|CCR |6.5758671649773754E7 |127362120            |5558                 |\n|TLH |6.3756726944370374E7 |243236636            |-381                 |\n|GCN |6.317413677125E7     |140994726            |59457                |\n+----+---------------------+---------------------+---------------------+\nonly showing top 20 rows\n",
					"output_type": "stream"
				}
			]
		},
		{
			"cell_type": "code",
			"source": "# # Get average arrival delay by airline by the day\n# agg_df1 = df.groupBy(\"UniqueCarrier\", \"DayOfWeek\").agg(avg(\"ArrDelay\").alias(\"AvgDelayByDay\")).orderBy(\"UniqueCarrier\", \"DayOfWeek\")\n# agg_df1.show(10)",
			"metadata": {
				"trusted": true,
				"tags": []
			},
			"execution_count": 19,
			"outputs": [
				{
					"name": "stdout",
					"text": "+-------------+---------+------------------+\n|UniqueCarrier|DayOfWeek|     AvgDelayByDay|\n+-------------+---------+------------------+\n|           9E|        1|6.5996673953569465|\n|           9E|        2| 5.907975790181574|\n|           9E|        3| 5.535135641787847|\n|           9E|        4| 5.876909254267745|\n|           9E|        5| 7.497764753986643|\n|           9E|        6| 4.284158904447597|\n|           9E|        7| 6.893415750783495|\n|           AA|        1| 6.650914113010778|\n|           AA|        2| 5.736685253741351|\n|           AA|        3|7.0400702413025265|\n+-------------+---------+------------------+\nonly showing top 10 rows\n",
					"output_type": "stream"
				}
			]
		},
		{
			"cell_type": "code",
			"source": "# # Get average arrival delay by day\n# agg_df3 = df.groupBy(\"DayOfWeek\").agg(avg(\"ArrDelay\").alias(\"TotalAveDelayByDay\")).orderBy(\"DayOfWeek\")\n# agg_df3.show()",
			"metadata": {
				"trusted": true,
				"tags": []
			},
			"execution_count": 22,
			"outputs": [
				{
					"name": "stdout",
					"text": "+---------+------------------+\n|DayOfWeek|TotalAveDelayByDay|\n+---------+------------------+\n|        1|6.6695148496840915|\n|        2| 5.960420592346179|\n|        3| 7.091501517465088|\n|        4| 8.945046639782811|\n|        5| 9.606953425895007|\n|        6| 4.187418958786977|\n|        7| 6.525039865667659|\n+---------+------------------+\n",
					"output_type": "stream"
				}
			]
		},
		{
			"cell_type": "code",
			"source": "# # Get average arrival delay by airline by the scheduled hour\n# agg_df2 = df.groupBy(\"UniqueCarrier\", \"ScheduledArrHour\").agg(avg(\"ArrDelay\").alias(\"AvgDelayExpected\"))\n# agg_df2.show(10)",
			"metadata": {
				"trusted": true,
				"tags": []
			},
			"execution_count": 20,
			"outputs": [
				{
					"name": "stdout",
					"text": "+-------------+----------------+------------------+\n|UniqueCarrier|ScheduledArrHour|  AvgDelayExpected|\n+-------------+----------------+------------------+\n|           US|              13| 3.325344176858094|\n|           DL|              20|12.102978945397147|\n|           DL|              18| 10.58250863107307|\n|           MQ|              13| 6.005755348363015|\n|           HP|               7| 4.661067433242129|\n|           HA|               9|-3.846256176358799|\n|           UA|              20|13.063968389452409|\n|           NW|               9|2.7916624595089496|\n|           HP|              21| 9.636104150332324|\n|           XE|              22|14.366321744799881|\n+-------------+----------------+------------------+\nonly showing top 10 rows\n",
					"output_type": "stream"
				}
			]
		},
		{
			"cell_type": "code",
			"source": "# # Get average arrival delay time by airline by the type of flight to see if long-haul flights are more prone to delays\n# agg_df4 = df.groupBy(\"UniqueCarrier\", \"LongHaulFlight\").agg(avg(\"ArrDelay\").alias(\"FlightTypeAvgDelay\")).orderBy(\"UniqueCarrier\", \"LongHaulFlight\")\n# agg_df4.show(10)",
			"metadata": {
				"trusted": true,
				"tags": []
			},
			"execution_count": 23,
			"outputs": [
				{
					"name": "stdout",
					"text": "+-------------+--------------+------------------+\n|UniqueCarrier|LongHaulFlight|FlightTypeAvgDelay|\n+-------------+--------------+------------------+\n|           9E|             0|6.1082282144188005|\n|           AA|             0|6.8367769208293945|\n|           AA|             1|3.5920859601126045|\n|           AQ|             0|1.2102615827681853|\n|           AQ|             1|-8.778739184177997|\n|           AS|             0| 8.416069574061208|\n|           AS|             1| 5.457909292035398|\n|           B6|             0|10.012434828260803|\n|           B6|             1| 4.915056849541892|\n|           CO|             0| 6.952947293399876|\n+-------------+--------------+------------------+\nonly showing top 10 rows\n",
					"output_type": "stream"
				}
			]
		},
		{
			"cell_type": "code",
			"source": "# # Get average arrival delay by the time of the year\n# agg_df5 = df.groupBy(\"Season\").agg(avg(\"ArrDelay\").alias(\"AveDelaySeason\")).orderBy(\"Season\")\n# agg_df5.show()",
			"metadata": {
				"trusted": true,
				"tags": []
			},
			"execution_count": 25,
			"outputs": [
				{
					"name": "stdout",
					"text": "+----------+-----------------+\n|TimeOfYear|   AveDelaySeason|\n+----------+-----------------+\n|        Q1|7.847639106816504|\n|        Q2|6.812042901816674|\n|        Q3| 6.74891812829479|\n|        Q4|  6.8239078570275|\n+----------+-----------------+\n",
					"output_type": "stream"
				}
			]
		},
		{
			"cell_type": "code",
			"source": "# # Get average arrival delay by the destination to detect airports prone to delays\n# agg_df6 = df.groupBy(\"Dest\").agg(avg(\"ArrDelay\").alias(\"AvgAirportDelay\")).orderBy(desc(\"AvgAirportDelay\"))\n# agg_df6.show(10)",
			"metadata": {
				"trusted": true,
				"tags": []
			},
			"execution_count": 31,
			"outputs": [
				{
					"name": "stdout",
					"text": "+----+------------------+\n|Dest|   AvgAirportDelay|\n+----+------------------+\n| PVU|              28.0|\n| OTH| 26.79233870967742|\n| SOP|25.598705501618124|\n| HHH|23.731300345224398|\n| MQT| 23.21644234267006|\n| ACK|22.587155963302752|\n| YAP| 16.89442815249267|\n| MCN|16.212311199772014|\n| LMT| 16.11978221415608|\n| MAZ| 14.69047619047619|\n+----+------------------+\nonly showing top 10 rows\n",
					"output_type": "stream"
				}
			]
		},
		{
			"cell_type": "code",
			"source": "# # Get average arrival delay by Route\n# agg_df7 = df.groupBy(\"Route\").agg(avg(\"ArrDelay\").alias(\"AvgRouteArrDelay\"))\n# agg_df7.show(10)",
			"metadata": {
				"trusted": true,
				"tags": []
			},
			"execution_count": 32,
			"outputs": [
				{
					"name": "stdout",
					"text": "+-------+------------------+\n|  Route|  AvgRouteArrDelay|\n+-------+------------------+\n|MSP-EWR| 13.15557346844772|\n|SLC-MSP| 3.801438509609716|\n|PIT-STL| 6.061640358722715|\n|PIT-CLT|  7.26124373618849|\n|MSP-GTF| 6.441260133693643|\n|DTW-MKE|10.268531812774336|\n|TPA-BWI| 6.111973392461198|\n|SLC-RAP|3.5848762221759936|\n|CLT-EWR|14.251507192335433|\n|PIT-SYR| 7.075739493649305|\n+-------+------------------+\nonly showing top 10 rows\n",
					"output_type": "stream"
				}
			]
		},
		{
			"cell_type": "code",
			"source": "",
			"metadata": {},
			"execution_count": null,
			"outputs": []
		},
		{
			"cell_type": "code",
			"source": "",
			"metadata": {},
			"execution_count": null,
			"outputs": []
		},
		{
			"cell_type": "code",
			"source": "",
			"metadata": {},
			"execution_count": null,
			"outputs": []
		},
		{
			"cell_type": "markdown",
			"source": "### **End**",
			"metadata": {}
		},
		{
			"cell_type": "markdown",
			"source": "#### Example: Create a DynamicFrame from a table in the AWS Glue Data Catalog and display its schema\n",
			"metadata": {
				"editable": true,
				"trusted": true
			}
		},
		{
			"cell_type": "code",
			"source": "# dyf = glueContext.create_dynamic_frame.from_catalog(database='database_name', table_name='table_name')\n# dyf.printSchema()",
			"metadata": {
				"trusted": true,
				"editable": true
			},
			"execution_count": null,
			"outputs": []
		},
		{
			"cell_type": "markdown",
			"source": "#### Example: Convert the DynamicFrame to a Spark DataFrame and display a sample of the data\n",
			"metadata": {
				"editable": true,
				"trusted": true
			}
		},
		{
			"cell_type": "code",
			"source": "# df = dyf.toDF()\n# df.show()",
			"metadata": {
				"trusted": true,
				"editable": true
			},
			"execution_count": null,
			"outputs": []
		},
		{
			"cell_type": "markdown",
			"source": "#### Example: Visualize data with matplotlib\n",
			"metadata": {
				"editable": true,
				"trusted": true
			}
		},
		{
			"cell_type": "code",
			"source": "# import matplotlib.pyplot as plt\n\n# # Set X-axis and Y-axis values\n# x = [5, 2, 8, 4, 9]\n# y = [10, 4, 8, 5, 2]\n  \n# # Create a bar chart \n# plt.bar(x, y)\n  \n# # Show the plot\n# %matplot plt",
			"metadata": {
				"trusted": true,
				"editable": true
			},
			"execution_count": null,
			"outputs": []
		},
		{
			"cell_type": "markdown",
			"source": "#### Example: Write the data in the DynamicFrame to a location in Amazon S3 and a table for it in the AWS Glue Data Catalog\n",
			"metadata": {
				"editable": true,
				"trusted": true
			}
		},
		{
			"cell_type": "code",
			"source": "# s3output = glueContext.getSink(\n#   path=\"s3://bucket_name/folder_name\",\n#   connection_type=\"s3\",\n#   updateBehavior=\"UPDATE_IN_DATABASE\",\n#   partitionKeys=[],\n#   compression=\"snappy\",\n#   enableUpdateCatalog=True,\n#   transformation_ctx=\"s3output\",\n# )\n# s3output.setCatalogInfo(\n#   catalogDatabase=\"demo\", catalogTableName=\"populations\"\n# )\n# s3output.setFormat(\"glueparquet\")\n# s3output.writeFrame(DyF)",
			"metadata": {
				"trusted": true,
				"editable": true
			},
			"execution_count": null,
			"outputs": []
		}
	]
}